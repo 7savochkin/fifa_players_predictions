{
 "cells": [
  {
   "cell_type": "code",
   "execution_count": null,
   "id": "4e69923f-06fd-44e8-932c-e784a63253fa",
   "metadata": {},
   "outputs": [],
   "source": [
    "\"\"\"\n",
    "🖇️Блок бізнес аналітики та інсайтів:\n",
    "\n",
    "Потрібно зробити невелику аналітику з точки зору відповіді на питання: уявіть, що вам треба зацікавити потенційного клієнта цими даними і своїми моделями - що ви можете запропонувати, кому це може бути цікаво, хто може стати потенційно вашим клієнтом?\n",
    "\n",
    "16. Описати датафрейм з точки зору бізнесу. Що в ньому є корисного? Що можна дослідити?\n",
    "\n",
    "НЕ обовʼязково це робити, достатньо придумати ідею. (на прикладі топів та діаграм наведених вище) (5 балів)\n",
    "\"\"\""
   ]
  },
  {
   "cell_type": "code",
   "execution_count": null,
   "id": "b6213b49-8114-4ac4-82fd-e57245de9123",
   "metadata": {},
   "outputs": [],
   "source": [
    "\"\"\"\n",
    "As you know, every year the best player wins the \"Golden Ball\" award presented by France Football magazine. \n",
    "Also this magazine presents awards like \"Golden Boy\", \"Golden Glove\" and \"The Ballon d'Or Dream Team\"\n",
    "Therefore, this DataFrame can provide additional useful information for the voters who choose the winners.\n",
    "First of all, this one give different characteristics of players like skills in attacking, defending, passing, goalkeeper's saving and etc..\n",
    "This can be useful for evaluating players' skills and getting the best out of them. \n",
    "Second, in our project we have created some player and club charts, this can be useful for finding the best clubs and players in positions.\n",
    "Thirdly, Thanks to the practice of Data Science, we can create several new columns and \n",
    "create a regression or classification to better evaluate players.\n",
    "Finally, our DataFrame can be useful for analize clubs, national teams, players and their skills.\n",
    "\"\"\""
   ]
  }
 ],
 "metadata": {
  "kernelspec": {
   "display_name": "Python 3 (ipykernel)",
   "language": "python",
   "name": "python3"
  },
  "language_info": {
   "codemirror_mode": {
    "name": "ipython",
    "version": 3
   },
   "file_extension": ".py",
   "mimetype": "text/x-python",
   "name": "python",
   "nbconvert_exporter": "python",
   "pygments_lexer": "ipython3",
   "version": "3.12.4"
  }
 },
 "nbformat": 4,
 "nbformat_minor": 5
}
